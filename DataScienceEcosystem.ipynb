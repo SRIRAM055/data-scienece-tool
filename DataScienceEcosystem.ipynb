{
 "cells": [
  {
   "cell_type": "markdown",
   "id": "63ce9aae",
   "metadata": {},
   "source": [
    "## Data Science Tools and Ecosystem"
   ]
  },
  {
   "cell_type": "markdown",
   "id": "69d6e089",
   "metadata": {},
   "source": [
    "In this notebook, Data Science Tools and Ecosystem are summarized\n"
   ]
  },
  {
   "cell_type": "markdown",
   "id": "9cac0b1e",
   "metadata": {},
   "source": [
    "Some of the popular languages that Data Scientists use are:"
   ]
  },
  {
   "cell_type": "code",
   "execution_count": null,
   "id": "e84e42ac",
   "metadata": {},
   "outputs": [],
   "source": [
    "1.pyhton\n",
    "2.R\n",
    "3.java"
   ]
  },
  {
   "cell_type": "markdown",
   "id": "a7320abc",
   "metadata": {},
   "source": [
    "Some of the commonly used libraries used by Data Scientists include:"
   ]
  },
  {
   "cell_type": "code",
   "execution_count": null,
   "id": "35778a42",
   "metadata": {},
   "outputs": [],
   "source": [
    "1.pandas\n",
    "2.numpy\n",
    "3.kernas"
   ]
  },
  {
   "cell_type": "markdown",
   "id": "703f88ea",
   "metadata": {},
   "source": [
    "Data Science Tools\n"
   ]
  },
  {
   "cell_type": "markdown",
   "id": "953b5100",
   "metadata": {},
   "source": [
    "Data science   IBM watsan studio     power BI Excel"
   ]
  },
  {
   "cell_type": "markdown",
   "id": "209fa652",
   "metadata": {},
   "source": [
    "Below are a few examples of evaluating arithmetic expressions in Python"
   ]
  },
  {
   "cell_type": "code",
   "execution_count": 2,
   "id": "fd78c4a8",
   "metadata": {},
   "outputs": [
    {
     "name": "stdout",
     "output_type": "stream",
     "text": [
      "4\n",
      "0\n",
      "4\n",
      "5.0\n"
     ]
    }
   ],
   "source": [
    "print(2+2)\n",
    "print(2-2)\n",
    "print(2*2)\n",
    "print(10/2)"
   ]
  },
  {
   "cell_type": "markdown",
   "id": "7e62a146",
   "metadata": {},
   "source": [
    "This a simple arithmetic expression to mutiply then add integers."
   ]
  },
  {
   "cell_type": "code",
   "execution_count": 3,
   "id": "6b2c241a",
   "metadata": {},
   "outputs": [
    {
     "name": "stdout",
     "output_type": "stream",
     "text": [
      "17\n"
     ]
    }
   ],
   "source": [
    "print((3*4)+5)"
   ]
  },
  {
   "cell_type": "markdown",
   "id": "1fb66e4e",
   "metadata": {},
   "source": [
    " This will convert 200 minutes to hours by diving by 60"
   ]
  },
  {
   "cell_type": "code",
   "execution_count": 4,
   "id": "cb6f253a",
   "metadata": {},
   "outputs": [
    {
     "name": "stdout",
     "output_type": "stream",
     "text": [
      "3.3333333333333335\n"
     ]
    }
   ],
   "source": [
    "print(200/60)"
   ]
  },
  {
   "cell_type": "markdown",
   "id": "c850ca7a",
   "metadata": {},
   "source": [
    "## objective\n"
   ]
  },
  {
   "cell_type": "markdown",
   "id": "6f446db3",
   "metadata": {},
   "source": [
    "List popular languages for Data Science"
   ]
  },
  {
   "cell_type": "code",
   "execution_count": null,
   "id": "96598316",
   "metadata": {},
   "outputs": [],
   "source": [
    "pyhton\n",
    "R\n",
    "Scala"
   ]
  },
  {
   "cell_type": "markdown",
   "id": "5cfea3cd",
   "metadata": {},
   "source": [
    "### Author"
   ]
  },
  {
   "cell_type": "code",
   "execution_count": null,
   "id": "6ab6d297",
   "metadata": {},
   "outputs": [],
   "source": [
    "SRIRAM P"
   ]
  }
 ],
 "metadata": {
  "kernelspec": {
   "display_name": "Python 3 (ipykernel)",
   "language": "python",
   "name": "python3"
  },
  "language_info": {
   "codemirror_mode": {
    "name": "ipython",
    "version": 3
   },
   "file_extension": ".py",
   "mimetype": "text/x-python",
   "name": "python",
   "nbconvert_exporter": "python",
   "pygments_lexer": "ipython3",
   "version": "3.10.9"
  }
 },
 "nbformat": 4,
 "nbformat_minor": 5
}
